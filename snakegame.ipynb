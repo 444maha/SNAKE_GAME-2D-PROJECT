{
 "cells": [
  {
   "cell_type": "code",
   "execution_count": null,
   "id": "aa4037d5-a2e9-4914-a7f9-e45ebf40fea4",
   "metadata": {},
   "outputs": [
    {
     "name": "stdout",
     "output_type": "stream",
     "text": [
      "  .   .   .   .   .   .   .   .   .   . \n",
      "  .   .   .   .   .   .   .   .   .   . \n",
      "  .   . 🐤   .   .   .   .   .   .   . \n",
      "  .   .   .   .   .   .   .   .   .   . \n",
      "  .   .   .   .   .   .   .   .   .   . \n",
      "  .   .   .   .   . 🐍   .   .   .   . \n",
      "  .   .   .   .   .   .   .   .   .   . \n",
      "  .   .   .   .   .   .   .   .   .   . \n",
      "  .   .   .   .   .   .   .   .   .   . \n",
      "  .   .   .   .   .   .   .   .   .   . \n",
      "\n",
      "Score: 0\n"
     ]
    },
    {
     "name": "stdin",
     "output_type": "stream",
     "text": [
      "Enter direction(up/down/left/right): up\n"
     ]
    },
    {
     "name": "stdout",
     "output_type": "stream",
     "text": [
      "  .   .   .   .   .   .   .   .   .   . \n",
      "  .   .   .   .   .   .   .   .   .   . \n",
      "  .   . 🐤   .   .   .   .   .   .   . \n",
      "  .   .   .   .   .   .   .   .   .   . \n",
      "  .   .   .   .   . 🐍   .   .   .   . \n",
      "  .   .   .   .   .   .   .   .   .   . \n",
      "  .   .   .   .   .   .   .   .   .   . \n",
      "  .   .   .   .   .   .   .   .   .   . \n",
      "  .   .   .   .   .   .   .   .   .   . \n",
      "  .   .   .   .   .   .   .   .   .   . \n",
      "\n",
      "Score: 0\n"
     ]
    },
    {
     "name": "stdin",
     "output_type": "stream",
     "text": [
      "Enter direction(up/down/left/right): up\n"
     ]
    },
    {
     "name": "stdout",
     "output_type": "stream",
     "text": [
      "  .   .   .   .   .   .   .   .   .   . \n",
      "  .   .   .   .   .   .   .   .   .   . \n",
      "  .   . 🐤   .   .   .   .   .   .   . \n",
      "  .   .   .   .   . 🐍   .   .   .   . \n",
      "  .   .   .   .   .   .   .   .   .   . \n",
      "  .   .   .   .   .   .   .   .   .   . \n",
      "  .   .   .   .   .   .   .   .   .   . \n",
      "  .   .   .   .   .   .   .   .   .   . \n",
      "  .   .   .   .   .   .   .   .   .   . \n",
      "  .   .   .   .   .   .   .   .   .   . \n",
      "\n",
      "Score: 0\n"
     ]
    },
    {
     "name": "stdin",
     "output_type": "stream",
     "text": [
      "Enter direction(up/down/left/right): up\n"
     ]
    },
    {
     "name": "stdout",
     "output_type": "stream",
     "text": [
      "  .   .   .   .   .   .   .   .   .   . \n",
      "  .   .   .   .   .   .   .   .   .   . \n",
      "  .   . 🐤   .   . 🐍   .   .   .   . \n",
      "  .   .   .   .   .   .   .   .   .   . \n",
      "  .   .   .   .   .   .   .   .   .   . \n",
      "  .   .   .   .   .   .   .   .   .   . \n",
      "  .   .   .   .   .   .   .   .   .   . \n",
      "  .   .   .   .   .   .   .   .   .   . \n",
      "  .   .   .   .   .   .   .   .   .   . \n",
      "  .   .   .   .   .   .   .   .   .   . \n",
      "\n",
      "Score: 0\n"
     ]
    },
    {
     "name": "stdin",
     "output_type": "stream",
     "text": [
      "Enter direction(up/down/left/right): left\n"
     ]
    },
    {
     "name": "stdout",
     "output_type": "stream",
     "text": [
      "  .   .   .   .   .   .   .   .   .   . \n",
      "  .   .   .   .   .   .   .   .   .   . \n",
      "  .   . 🐤   . 🐍   .   .   .   .   . \n",
      "  .   .   .   .   .   .   .   .   .   . \n",
      "  .   .   .   .   .   .   .   .   .   . \n",
      "  .   .   .   .   .   .   .   .   .   . \n",
      "  .   .   .   .   .   .   .   .   .   . \n",
      "  .   .   .   .   .   .   .   .   .   . \n",
      "  .   .   .   .   .   .   .   .   .   . \n",
      "  .   .   .   .   .   .   .   .   .   . \n",
      "\n",
      "Score: 0\n"
     ]
    },
    {
     "name": "stdin",
     "output_type": "stream",
     "text": [
      "Enter direction(up/down/left/right): left\n"
     ]
    },
    {
     "name": "stdout",
     "output_type": "stream",
     "text": [
      "  .   .   .   .   .   .   .   .   .   . \n",
      "  .   .   .   .   .   .   .   .   .   . \n",
      "  .   . 🐤 🐍   .   .   .   .   .   . \n",
      "  .   .   .   .   .   .   .   .   .   . \n",
      "  .   .   .   .   .   .   .   .   .   . \n",
      "  .   .   .   .   .   .   .   .   .   . \n",
      "  .   .   .   .   .   .   .   .   .   . \n",
      "  .   .   .   .   .   .   .   .   .   . \n",
      "  .   .   .   .   .   .   .   .   .   . \n",
      "  .   .   .   .   .   .   .   .   .   . \n",
      "\n",
      "Score: 0\n"
     ]
    },
    {
     "name": "stdin",
     "output_type": "stream",
     "text": [
      "Enter direction(up/down/left/right): left\n"
     ]
    },
    {
     "name": "stdout",
     "output_type": "stream",
     "text": [
      "  .   .   .   .   .   .   .   .   .   . \n",
      "  .   .   .   .   .   .   .   .   .   . \n",
      "  .   . 🐍 🐍   .   .   .   .   .   . \n",
      "  .   .   .   .   .   .   .   .   .   . \n",
      "  .   .   .   .   .   .   .   .   .   . \n",
      "  .   .   .   .   .   .   .   .   .   . \n",
      "  .   .   . 🐤   .   .   .   .   .   . \n",
      "  .   .   .   .   .   .   .   .   .   . \n",
      "  .   .   .   .   .   .   .   .   .   . \n",
      "  .   .   .   .   .   .   .   .   .   . \n",
      "\n",
      "Score: 1\n"
     ]
    }
   ],
   "source": [
    "import random#import random for food position\n",
    "width=10\n",
    "height=10\n",
    "\n",
    "def print_board(snake,food):#function to display board\n",
    "    for y in range(height):\n",
    "        for x in range(width):\n",
    "            if [x,y] == food :\n",
    "                print(\"🐤\", end=\" \")\n",
    "            elif [x,y] in snake:\n",
    "                print(\"🐍\", end=\" \")\n",
    "            else:\n",
    "                print(\"  .\", end=\" \")\n",
    "        print()\n",
    "    print()\n",
    "def move_snake(snake,direction):# function for move snake based on direction\n",
    "    head=snake[-1]\n",
    "    if direction=='up':\n",
    "        new_head=[head[0],head[1] - 1]\n",
    "    elif direction=='down':\n",
    "        new_head=[head[0],head[1] + 1]\n",
    "    elif direction=='left':\n",
    "        new_head=[head[0] - 1,head[1]]\n",
    "    elif direction=='right':\n",
    "        new_head=[head[0] + 1,head[1]]\n",
    "    else:\n",
    "        print(\"invalid direction! Use up/down/left/right.\")\n",
    "        return snake,False\n",
    "        \n",
    "#WALL Collision\n",
    "    if new_head[0] < 0 or new_head[0] >= width or new_head[1] < 0 or new_head[1] >=height:\n",
    "        return snake,'wall'#return wall collision status\n",
    "#self colide conditions\n",
    "    if new_head in snake:\n",
    "        return snake,'self'\n",
    "        \n",
    "    snake.append(new_head)\n",
    "    return snake,new_head\n",
    "    \n",
    "def place_food(snake):#function to place food not a snake\n",
    "    while True:\n",
    "        x = random.randint(0,width-1)\n",
    "        y = random.randint(0,height-1)\n",
    "        if [x,y] not in snake:\n",
    "            return[x,y]   # Return the valid food position\n",
    "            \n",
    "def snake_game():# Main function to play the snake game\n",
    "    snake = [[5,5]]# Initial snake position (starting at the center)\n",
    "    food = place_food(snake)\n",
    "    score = 0# Initial snake position (starting at the center)\n",
    "    while True:\n",
    "        print_board(snake, food)\n",
    "        print(\"Score:\",score)# Ask the player for the next move (direction)\n",
    "        direction = input(\"Enter direction(up/down/left/right):\")\n",
    "        snake,result = move_snake(snake,direction)\n",
    "         \n",
    "        # Check for different game-ending conditions\n",
    "        if result == 'wall':\n",
    "            print(\"you hit the wall!Game Over.\") # \n",
    "            break\n",
    "        elif result == 'self': \n",
    "            print(\"you hit yourself!Game Over.\")\n",
    "        elif result==food: # If the snake eats food, increase the score and place new food\n",
    "            score+=1\n",
    "            food=place_food(snake)\n",
    "        else:     # If the snake doesn't eat food, remove the tail to simulate movement\n",
    "            snake.pop(0)\n",
    "    print(\"final Score:\",score)\n",
    "    \n",
    "snake_game()"
   ]
  },
  {
   "cell_type": "code",
   "execution_count": null,
   "id": "58fcb466-31c0-46fd-9165-76b8503775f1",
   "metadata": {},
   "outputs": [],
   "source": []
  }
 ],
 "metadata": {
  "kernelspec": {
   "display_name": "Python 3 (ipykernel)",
   "language": "python",
   "name": "python3"
  },
  "language_info": {
   "codemirror_mode": {
    "name": "ipython",
    "version": 3
   },
   "file_extension": ".py",
   "mimetype": "text/x-python",
   "name": "python",
   "nbconvert_exporter": "python",
   "pygments_lexer": "ipython3",
   "version": "3.12.7"
  }
 },
 "nbformat": 4,
 "nbformat_minor": 5
}
